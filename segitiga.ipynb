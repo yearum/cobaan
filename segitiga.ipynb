{
 "cells": [
  {
   "cell_type": "code",
   "execution_count": 3,
   "id": "fc6fae48-9324-4b7a-898c-eeee9b690726",
   "metadata": {},
   "outputs": [
    {
     "name": "stdout",
     "output_type": "stream",
     "text": [
      "*\n",
      "**\n",
      "***\n",
      "****\n",
      "*****\n",
      "******\n",
      "*******\n",
      "********\n"
     ]
    }
   ],
   "source": [
    "A = 8\n",
    "for i in range (0, A ):\n",
    "    for j in range (0, i+1):\n",
    "        print('*', end='')\n",
    "    print('')"
   ]
  },
  {
   "cell_type": "code",
   "execution_count": 15,
   "id": "48806a21-2996-4d59-bd89-13cd97d19efa",
   "metadata": {},
   "outputs": [
    {
     "name": "stdout",
     "output_type": "stream",
     "text": [
      "\n",
      "*\n",
      "**\n",
      "***\n",
      "****\n",
      "*****\n",
      "******\n",
      "*******\n",
      "********\n"
     ]
    }
   ],
   "source": [
    "A = 9\n",
    "for i in range (0, A ):\n",
    "    for j in range (0, i):\n",
    "        print('*', end='')\n",
    "    A-=1\n",
    "    print('')"
   ]
  },
  {
   "cell_type": "code",
   "execution_count": 17,
   "id": "700b055d-e737-42ef-b3e3-3c1508465dcf",
   "metadata": {},
   "outputs": [
    {
     "name": "stdout",
     "output_type": "stream",
     "text": [
      "*********\n",
      " ********\n",
      "  *******\n",
      "   ******\n",
      "    *****\n",
      "     ****\n",
      "      ***\n",
      "       **\n",
      "        *\n"
     ]
    }
   ],
   "source": [
    "A = 9\n",
    "for i in range (0, A ):\n",
    "    for j in range (0, i):\n",
    "        print(' ', end='')\n",
    "    for k in range (0, A):\n",
    "        print('*', end='')\n",
    "    A-=1\n",
    "    print('')"
   ]
  },
  {
   "cell_type": "code",
   "execution_count": 18,
   "id": "63ca9e61-e5c4-473c-9c7d-fbdadc0cb353",
   "metadata": {},
   "outputs": [
    {
     "name": "stdout",
     "output_type": "stream",
     "text": [
      "          *\n",
      "         **\n",
      "        ***\n",
      "       ****\n",
      "      *****\n",
      "     ******\n",
      "    *******\n",
      "   ********\n",
      "  *********\n"
     ]
    }
   ],
   "source": [
    "A = 9\n",
    "for i in range (0, A ):\n",
    "    for j in range (0, A+1):\n",
    "        print(' ', end='')\n",
    "    for k in range (0,i+1):\n",
    "        print('*', end='')\n",
    "    A-=1\n",
    "    print('')"
   ]
  },
  {
   "cell_type": "code",
   "execution_count": 28,
   "id": "2b242098-07c5-4139-865e-f272d828807f",
   "metadata": {},
   "outputs": [
    {
     "name": "stdout",
     "output_type": "stream",
     "text": [
      "* * * * * * * * *  \n",
      " * * * * * * * *  \n",
      "  * * * * * * *  \n",
      "   * * * * * *  \n",
      "    * * * * *  \n",
      "     * * * *  \n",
      "      * * *  \n",
      "       * *  \n",
      "        *  \n"
     ]
    }
   ],
   "source": [
    "A = 9\n",
    "for i in range (0, A ):\n",
    "    for j in range (0, i):\n",
    "        print(' ', end='')\n",
    "    for k in range (0,A):\n",
    "        print('*', end=' ')\n",
    "    A-=1\n",
    "    print(' ')"
   ]
  },
  {
   "cell_type": "code",
   "execution_count": null,
   "id": "1b5fd760-f7d7-45a0-94d8-453126c35d58",
   "metadata": {},
   "outputs": [],
   "source": []
  }
 ],
 "metadata": {
  "kernelspec": {
   "display_name": "Python 3 (ipykernel)",
   "language": "python",
   "name": "python3"
  },
  "language_info": {
   "codemirror_mode": {
    "name": "ipython",
    "version": 3
   },
   "file_extension": ".py",
   "mimetype": "text/x-python",
   "name": "python",
   "nbconvert_exporter": "python",
   "pygments_lexer": "ipython3",
   "version": "3.12.4"
  }
 },
 "nbformat": 4,
 "nbformat_minor": 5
}
